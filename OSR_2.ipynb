{
  "cells": [
    {
      "cell_type": "code",
      "execution_count": null,
      "metadata": {
        "colab": {
          "base_uri": "https://localhost:8080/"
        },
        "id": "n5EcoTYvD_cA",
        "outputId": "ad47ab7a-8d62-4ea0-d7f4-5dde45d5c7cf"
      },
      "outputs": [
        {
          "name": "stdout",
          "output_type": "stream",
          "text": [
            "Requirement already satisfied: geopy in /usr/local/lib/python3.10/dist-packages (2.4.1)\n",
            "Requirement already satisfied: folium in /usr/local/lib/python3.10/dist-packages (0.17.0)\n",
            "Requirement already satisfied: geographiclib<3,>=1.52 in /usr/local/lib/python3.10/dist-packages (from geopy) (2.0)\n",
            "Requirement already satisfied: branca>=0.6.0 in /usr/local/lib/python3.10/dist-packages (from folium) (0.7.2)\n",
            "Requirement already satisfied: jinja2>=2.9 in /usr/local/lib/python3.10/dist-packages (from folium) (3.1.4)\n",
            "Requirement already satisfied: numpy in /usr/local/lib/python3.10/dist-packages (from folium) (1.26.4)\n",
            "Requirement already satisfied: requests in /usr/local/lib/python3.10/dist-packages (from folium) (2.32.3)\n",
            "Requirement already satisfied: xyzservices in /usr/local/lib/python3.10/dist-packages (from folium) (2024.6.0)\n",
            "Requirement already satisfied: MarkupSafe>=2.0 in /usr/local/lib/python3.10/dist-packages (from jinja2>=2.9->folium) (2.1.5)\n",
            "Requirement already satisfied: charset-normalizer<4,>=2 in /usr/local/lib/python3.10/dist-packages (from requests->folium) (3.3.2)\n",
            "Requirement already satisfied: idna<4,>=2.5 in /usr/local/lib/python3.10/dist-packages (from requests->folium) (3.8)\n",
            "Requirement already satisfied: urllib3<3,>=1.21.1 in /usr/local/lib/python3.10/dist-packages (from requests->folium) (2.0.7)\n",
            "Requirement already satisfied: certifi>=2017.4.17 in /usr/local/lib/python3.10/dist-packages (from requests->folium) (2024.8.30)\n"
          ]
        }
      ],
      "source": [
        "pip install geopy folium\n"
      ]
    },
    {
      "cell_type": "code",
      "execution_count": null,
      "metadata": {
        "colab": {
          "base_uri": "https://localhost:8080/"
        },
        "id": "yRr-V3iYEQFg",
        "outputId": "aba84550-ab92-4ada-8dfc-11812ac3e4a9"
      },
      "outputs": [
        {
          "name": "stdout",
          "output_type": "stream",
          "text": [
            "Distance between points: 559.12 km\n",
            "Map saved to ship_route_map.html\n"
          ]
        }
      ],
      "source": [
        "from geopy.distance import great_circle\n",
        "import folium\n",
        "\n",
        "# Define a function to calculate distance between two coordinates\n",
        "def calculate_distance(coord1, coord2):\n",
        "    return great_circle(coord1, coord2).kilometers\n",
        "\n",
        "# Define a function to create a map with route\n",
        "def create_map(start_coords, end_coords, map_file='ship_route_map.html'):\n",
        "    # Create a folium map centered around the midpoint\n",
        "    midpoint = [(start_coords[0] + end_coords[0]) / 2, (start_coords[1] + end_coords[1]) / 2]\n",
        "    m = folium.Map(location=midpoint, zoom_start=5)\n",
        "\n",
        "    # Add markers for start and end points\n",
        "    folium.Marker(start_coords, tooltip='Start Point', icon=folium.Icon(color='green')).add_to(m)\n",
        "    folium.Marker(end_coords, tooltip='End Point', icon=folium.Icon(color='red')).add_to(m)\n",
        "\n",
        "    # Add a line connecting the start and end points\n",
        "    folium.PolyLine([start_coords, end_coords], color='blue', weight=2.5, opacity=1).add_to(m)\n",
        "\n",
        "    # Save map to an HTML file\n",
        "    m.save(map_file)\n",
        "    print(f\"Map saved to {map_file}\")\n",
        "\n",
        "# Example coordinates for start and end points\n",
        "start_point = (37.7749, -122.4194)  # San Francisco, CA\n",
        "end_point = (3.7418623, 79.8460673)    # Los Angeles, CA\n",
        "\n",
        "# Calculate distance\n",
        "distance = calculate_distance(start_point, end_point)\n",
        "print(f\"Distance between points: {distance:.2f} km\")\n",
        "\n",
        "# Create and save the map\n",
        "create_map(start_point, end_point)\n"
      ]
    },
    {
      "cell_type": "markdown",
      "metadata": {
        "id": "ai9bOJCwbAsM"
      },
      "source": []
    },
    {
      "cell_type": "code",
      "execution_count": null,
      "metadata": {
        "colab": {
          "base_uri": "https://localhost:8080/"
        },
        "id": "FX1xdUw2FIYw",
        "outputId": "799c1259-efa0-4b85-d02b-78c8c1f86abc"
      },
      "outputs": [
        {
          "data": {
            "text/html": [
              "<!DOCTYPE html>\n",
              "<html>\n",
              "<head>\n",
              "    \n",
              "    <meta http-equiv=\"content-type\" content=\"text/html; charset=UTF-8\" />\n",
              "    \n",
              "        <script>\n",
              "            L_NO_TOUCH = false;\n",
              "            L_DISABLE_3D = false;\n",
              "        </script>\n",
              "    \n",
              "    <style>html, body {width: 100%;height: 100%;margin: 0;padding: 0;}</style>\n",
              "    <style>#map {position:absolute;top:0;bottom:0;right:0;left:0;}</style>\n",
              "    <script src=\"https://cdn.jsdelivr.net/npm/leaflet@1.9.3/dist/leaflet.js\"></script>\n",
              "    <script src=\"https://code.jquery.com/jquery-3.7.1.min.js\"></script>\n",
              "    <script src=\"https://cdn.jsdelivr.net/npm/bootstrap@5.2.2/dist/js/bootstrap.bundle.min.js\"></script>\n",
              "    <script src=\"https://cdnjs.cloudflare.com/ajax/libs/Leaflet.awesome-markers/2.0.2/leaflet.awesome-markers.js\"></script>\n",
              "    <link rel=\"stylesheet\" href=\"https://cdn.jsdelivr.net/npm/leaflet@1.9.3/dist/leaflet.css\"/>\n",
              "    <link rel=\"stylesheet\" href=\"https://cdn.jsdelivr.net/npm/bootstrap@5.2.2/dist/css/bootstrap.min.css\"/>\n",
              "    <link rel=\"stylesheet\" href=\"https://netdna.bootstrapcdn.com/bootstrap/3.0.0/css/bootstrap-glyphicons.css\"/>\n",
              "    <link rel=\"stylesheet\" href=\"https://cdn.jsdelivr.net/npm/@fortawesome/fontawesome-free@6.2.0/css/all.min.css\"/>\n",
              "    <link rel=\"stylesheet\" href=\"https://cdnjs.cloudflare.com/ajax/libs/Leaflet.awesome-markers/2.0.2/leaflet.awesome-markers.css\"/>\n",
              "    <link rel=\"stylesheet\" href=\"https://cdn.jsdelivr.net/gh/python-visualization/folium/folium/templates/leaflet.awesome.rotate.min.css\"/>\n",
              "    \n",
              "            <meta name=\"viewport\" content=\"width=device-width,\n",
              "                initial-scale=1.0, maximum-scale=1.0, user-scalable=no\" />\n",
              "            <style>\n",
              "                #map_e975290f4ed05618e85e649969c30e0a {\n",
              "                    position: relative;\n",
              "                    width: 100.0%;\n",
              "                    height: 100.0%;\n",
              "                    left: 0.0%;\n",
              "                    top: 0.0%;\n",
              "                }\n",
              "                .leaflet-container { font-size: 1rem; }\n",
              "            </style>\n",
              "        \n",
              "</head>\n",
              "<body>\n",
              "    \n",
              "    \n",
              "            <div class=\"folium-map\" id=\"map_e975290f4ed05618e85e649969c30e0a\" ></div>\n",
              "        \n",
              "</body>\n",
              "<script>\n",
              "    \n",
              "    \n",
              "            var map_e975290f4ed05618e85e649969c30e0a = L.map(\n",
              "                \"map_e975290f4ed05618e85e649969c30e0a\",\n",
              "                {\n",
              "                    center: [35.91355, -120.33155],\n",
              "                    crs: L.CRS.EPSG3857,\n",
              "                    zoom: 5,\n",
              "                    zoomControl: true,\n",
              "                    preferCanvas: false,\n",
              "                }\n",
              "            );\n",
              "\n",
              "            \n",
              "\n",
              "        \n",
              "    \n",
              "            var tile_layer_2d164e14a8061ff430b180975cdfde15 = L.tileLayer(\n",
              "                \"https://tile.openstreetmap.org/{z}/{x}/{y}.png\",\n",
              "                {\"attribution\": \"\\u0026copy; \\u003ca href=\\\"https://www.openstreetmap.org/copyright\\\"\\u003eOpenStreetMap\\u003c/a\\u003e contributors\", \"detectRetina\": false, \"maxNativeZoom\": 19, \"maxZoom\": 19, \"minZoom\": 0, \"noWrap\": false, \"opacity\": 1, \"subdomains\": \"abc\", \"tms\": false}\n",
              "            );\n",
              "        \n",
              "    \n",
              "            tile_layer_2d164e14a8061ff430b180975cdfde15.addTo(map_e975290f4ed05618e85e649969c30e0a);\n",
              "        \n",
              "    \n",
              "            var marker_ae3fe6ac1b7236e48a3058d5d209be52 = L.marker(\n",
              "                [37.7749, -122.4194],\n",
              "                {}\n",
              "            ).addTo(map_e975290f4ed05618e85e649969c30e0a);\n",
              "        \n",
              "    \n",
              "            var icon_87e6341c24a78930d07efff828eb1ce2 = L.AwesomeMarkers.icon(\n",
              "                {\"extraClasses\": \"fa-rotate-0\", \"icon\": \"info-sign\", \"iconColor\": \"white\", \"markerColor\": \"green\", \"prefix\": \"glyphicon\"}\n",
              "            );\n",
              "            marker_ae3fe6ac1b7236e48a3058d5d209be52.setIcon(icon_87e6341c24a78930d07efff828eb1ce2);\n",
              "        \n",
              "    \n",
              "            marker_ae3fe6ac1b7236e48a3058d5d209be52.bindTooltip(\n",
              "                `<div>\n",
              "                     Start Point\n",
              "                 </div>`,\n",
              "                {\"sticky\": true}\n",
              "            );\n",
              "        \n",
              "    \n",
              "            var marker_f13cec02a1bf515b26cdf39a5c6f58d4 = L.marker(\n",
              "                [34.0522, -118.2437],\n",
              "                {}\n",
              "            ).addTo(map_e975290f4ed05618e85e649969c30e0a);\n",
              "        \n",
              "    \n",
              "            var icon_41afdd4a52d2357964d4c8ae8b7219cf = L.AwesomeMarkers.icon(\n",
              "                {\"extraClasses\": \"fa-rotate-0\", \"icon\": \"info-sign\", \"iconColor\": \"white\", \"markerColor\": \"red\", \"prefix\": \"glyphicon\"}\n",
              "            );\n",
              "            marker_f13cec02a1bf515b26cdf39a5c6f58d4.setIcon(icon_41afdd4a52d2357964d4c8ae8b7219cf);\n",
              "        \n",
              "    \n",
              "            marker_f13cec02a1bf515b26cdf39a5c6f58d4.bindTooltip(\n",
              "                `<div>\n",
              "                     End Point\n",
              "                 </div>`,\n",
              "                {\"sticky\": true}\n",
              "            );\n",
              "        \n",
              "    \n",
              "            var poly_line_2e805e41f0ae93ceec283ae8bc6d4d4c = L.polyline(\n",
              "                [[37.7749, -122.4194], [34.0522, -118.2437]],\n",
              "                {\"bubblingMouseEvents\": true, \"color\": \"blue\", \"dashArray\": null, \"dashOffset\": null, \"fill\": false, \"fillColor\": \"blue\", \"fillOpacity\": 0.2, \"fillRule\": \"evenodd\", \"lineCap\": \"round\", \"lineJoin\": \"round\", \"noClip\": false, \"opacity\": 1, \"smoothFactor\": 1.0, \"stroke\": true, \"weight\": 2.5}\n",
              "            ).addTo(map_e975290f4ed05618e85e649969c30e0a);\n",
              "        \n",
              "</script>\n",
              "</html>"
            ],
            "text/plain": [
              "<IPython.core.display.HTML object>"
            ]
          },
          "metadata": {},
          "output_type": "display_data"
        }
      ],
      "source": [
        "from IPython.core.display import display, HTML\n",
        "\n",
        "# Assuming the uploaded file is named 'ship_route_map.html'\n",
        "file_name = 'ship_route_map.html'\n",
        "\n",
        "# Read the HTML file\n",
        "with open(file_name, 'r') as file:\n",
        "    html_content = file.read()\n",
        "\n",
        "# Display HTML content\n",
        "display(HTML(html_content))\n"
      ]
    },
    {
      "cell_type": "code",
      "execution_count": null,
      "metadata": {
        "colab": {
          "base_uri": "https://localhost:8080/"
        },
        "id": "A06ipeIRFgwI",
        "outputId": "ffc36d85-eeca-45fa-c7ff-cb211e3c2862"
      },
      "outputs": [
        {
          "data": {
            "text/html": [
              "<!DOCTYPE html>\n",
              "<html>\n",
              "<head>\n",
              "    \n",
              "    <meta http-equiv=\"content-type\" content=\"text/html; charset=UTF-8\" />\n",
              "    \n",
              "        <script>\n",
              "            L_NO_TOUCH = false;\n",
              "            L_DISABLE_3D = false;\n",
              "        </script>\n",
              "    \n",
              "    <style>html, body {width: 100%;height: 100%;margin: 0;padding: 0;}</style>\n",
              "    <style>#map {position:absolute;top:0;bottom:0;right:0;left:0;}</style>\n",
              "    <script src=\"https://cdn.jsdelivr.net/npm/leaflet@1.9.3/dist/leaflet.js\"></script>\n",
              "    <script src=\"https://code.jquery.com/jquery-3.7.1.min.js\"></script>\n",
              "    <script src=\"https://cdn.jsdelivr.net/npm/bootstrap@5.2.2/dist/js/bootstrap.bundle.min.js\"></script>\n",
              "    <script src=\"https://cdnjs.cloudflare.com/ajax/libs/Leaflet.awesome-markers/2.0.2/leaflet.awesome-markers.js\"></script>\n",
              "    <link rel=\"stylesheet\" href=\"https://cdn.jsdelivr.net/npm/leaflet@1.9.3/dist/leaflet.css\"/>\n",
              "    <link rel=\"stylesheet\" href=\"https://cdn.jsdelivr.net/npm/bootstrap@5.2.2/dist/css/bootstrap.min.css\"/>\n",
              "    <link rel=\"stylesheet\" href=\"https://netdna.bootstrapcdn.com/bootstrap/3.0.0/css/bootstrap-glyphicons.css\"/>\n",
              "    <link rel=\"stylesheet\" href=\"https://cdn.jsdelivr.net/npm/@fortawesome/fontawesome-free@6.2.0/css/all.min.css\"/>\n",
              "    <link rel=\"stylesheet\" href=\"https://cdnjs.cloudflare.com/ajax/libs/Leaflet.awesome-markers/2.0.2/leaflet.awesome-markers.css\"/>\n",
              "    <link rel=\"stylesheet\" href=\"https://cdn.jsdelivr.net/gh/python-visualization/folium/folium/templates/leaflet.awesome.rotate.min.css\"/>\n",
              "    \n",
              "            <meta name=\"viewport\" content=\"width=device-width,\n",
              "                initial-scale=1.0, maximum-scale=1.0, user-scalable=no\" />\n",
              "            <style>\n",
              "                #map_e975290f4ed05618e85e649969c30e0a {\n",
              "                    position: relative;\n",
              "                    width: 100.0%;\n",
              "                    height: 100.0%;\n",
              "                    left: 0.0%;\n",
              "                    top: 0.0%;\n",
              "                }\n",
              "                .leaflet-container { font-size: 1rem; }\n",
              "            </style>\n",
              "        \n",
              "</head>\n",
              "<body>\n",
              "    \n",
              "    \n",
              "            <div class=\"folium-map\" id=\"map_e975290f4ed05618e85e649969c30e0a\" ></div>\n",
              "        \n",
              "</body>\n",
              "<script>\n",
              "    \n",
              "    \n",
              "            var map_e975290f4ed05618e85e649969c30e0a = L.map(\n",
              "                \"map_e975290f4ed05618e85e649969c30e0a\",\n",
              "                {\n",
              "                    center: [35.91355, -120.33155],\n",
              "                    crs: L.CRS.EPSG3857,\n",
              "                    zoom: 5,\n",
              "                    zoomControl: true,\n",
              "                    preferCanvas: false,\n",
              "                }\n",
              "            );\n",
              "\n",
              "            \n",
              "\n",
              "        \n",
              "    \n",
              "            var tile_layer_2d164e14a8061ff430b180975cdfde15 = L.tileLayer(\n",
              "                \"https://tile.openstreetmap.org/{z}/{x}/{y}.png\",\n",
              "                {\"attribution\": \"\\u0026copy; \\u003ca href=\\\"https://www.openstreetmap.org/copyright\\\"\\u003eOpenStreetMap\\u003c/a\\u003e contributors\", \"detectRetina\": false, \"maxNativeZoom\": 19, \"maxZoom\": 19, \"minZoom\": 0, \"noWrap\": false, \"opacity\": 1, \"subdomains\": \"abc\", \"tms\": false}\n",
              "            );\n",
              "        \n",
              "    \n",
              "            tile_layer_2d164e14a8061ff430b180975cdfde15.addTo(map_e975290f4ed05618e85e649969c30e0a);\n",
              "        \n",
              "    \n",
              "            var marker_ae3fe6ac1b7236e48a3058d5d209be52 = L.marker(\n",
              "                [37.7749, -122.4194],\n",
              "                {}\n",
              "            ).addTo(map_e975290f4ed05618e85e649969c30e0a);\n",
              "        \n",
              "    \n",
              "            var icon_87e6341c24a78930d07efff828eb1ce2 = L.AwesomeMarkers.icon(\n",
              "                {\"extraClasses\": \"fa-rotate-0\", \"icon\": \"info-sign\", \"iconColor\": \"white\", \"markerColor\": \"green\", \"prefix\": \"glyphicon\"}\n",
              "            );\n",
              "            marker_ae3fe6ac1b7236e48a3058d5d209be52.setIcon(icon_87e6341c24a78930d07efff828eb1ce2);\n",
              "        \n",
              "    \n",
              "            marker_ae3fe6ac1b7236e48a3058d5d209be52.bindTooltip(\n",
              "                `<div>\n",
              "                     Start Point\n",
              "                 </div>`,\n",
              "                {\"sticky\": true}\n",
              "            );\n",
              "        \n",
              "    \n",
              "            var marker_f13cec02a1bf515b26cdf39a5c6f58d4 = L.marker(\n",
              "                [34.0522, -118.2437],\n",
              "                {}\n",
              "            ).addTo(map_e975290f4ed05618e85e649969c30e0a);\n",
              "        \n",
              "    \n",
              "            var icon_41afdd4a52d2357964d4c8ae8b7219cf = L.AwesomeMarkers.icon(\n",
              "                {\"extraClasses\": \"fa-rotate-0\", \"icon\": \"info-sign\", \"iconColor\": \"white\", \"markerColor\": \"red\", \"prefix\": \"glyphicon\"}\n",
              "            );\n",
              "            marker_f13cec02a1bf515b26cdf39a5c6f58d4.setIcon(icon_41afdd4a52d2357964d4c8ae8b7219cf);\n",
              "        \n",
              "    \n",
              "            marker_f13cec02a1bf515b26cdf39a5c6f58d4.bindTooltip(\n",
              "                `<div>\n",
              "                     End Point\n",
              "                 </div>`,\n",
              "                {\"sticky\": true}\n",
              "            );\n",
              "        \n",
              "    \n",
              "            var poly_line_2e805e41f0ae93ceec283ae8bc6d4d4c = L.polyline(\n",
              "                [[37.7749, -122.4194], [34.0522, -118.2437]],\n",
              "                {\"bubblingMouseEvents\": true, \"color\": \"blue\", \"dashArray\": null, \"dashOffset\": null, \"fill\": false, \"fillColor\": \"blue\", \"fillOpacity\": 0.2, \"fillRule\": \"evenodd\", \"lineCap\": \"round\", \"lineJoin\": \"round\", \"noClip\": false, \"opacity\": 1, \"smoothFactor\": 1.0, \"stroke\": true, \"weight\": 2.5}\n",
              "            ).addTo(map_e975290f4ed05618e85e649969c30e0a);\n",
              "        \n",
              "</script>\n",
              "</html>"
            ],
            "text/plain": [
              "<IPython.core.display.HTML object>"
            ]
          },
          "metadata": {},
          "output_type": "display_data"
        }
      ],
      "source": [
        "from IPython.core.display import display, HTML\n",
        "\n",
        "# Example HTML content\n",
        "html_content = \"ship_route_map.html\"\n",
        "\n",
        "\n",
        "# Display the HTML content\n",
        "display(HTML(html_content))\n"
      ]
    },
    {
      "cell_type": "code",
      "execution_count": null,
      "metadata": {
        "colab": {
          "base_uri": "https://localhost:8080/"
        },
        "id": "VYcGYpfXF8qx",
        "outputId": "b649dd6b-954f-4204-f5d3-c2f9f26e6cf7"
      },
      "outputs": [
        {
          "name": "stdout",
          "output_type": "stream",
          "text": [
            "Collecting netCDF4\n",
            "  Downloading netCDF4-1.7.1.post2-cp310-cp310-manylinux_2_17_x86_64.manylinux2014_x86_64.whl.metadata (1.8 kB)\n",
            "Collecting cftime (from netCDF4)\n",
            "  Downloading cftime-1.6.4-cp310-cp310-manylinux_2_17_x86_64.manylinux2014_x86_64.whl.metadata (8.7 kB)\n",
            "Requirement already satisfied: certifi in /usr/local/lib/python3.10/dist-packages (from netCDF4) (2024.8.30)\n",
            "Requirement already satisfied: numpy in /usr/local/lib/python3.10/dist-packages (from netCDF4) (1.26.4)\n",
            "Downloading netCDF4-1.7.1.post2-cp310-cp310-manylinux_2_17_x86_64.manylinux2014_x86_64.whl (9.0 MB)\n",
            "\u001b[2K   \u001b[90m━━━━━━━━━━━━━━━━━━━━━━━━━━━━━━━━━━━━━━━━\u001b[0m \u001b[32m9.0/9.0 MB\u001b[0m \u001b[31m43.2 MB/s\u001b[0m eta \u001b[36m0:00:00\u001b[0m\n",
            "\u001b[?25hDownloading cftime-1.6.4-cp310-cp310-manylinux_2_17_x86_64.manylinux2014_x86_64.whl (1.3 MB)\n",
            "\u001b[2K   \u001b[90m━━━━━━━━━━━━━━━━━━━━━━━━━━━━━━━━━━━━━━━━\u001b[0m \u001b[32m1.3/1.3 MB\u001b[0m \u001b[31m57.6 MB/s\u001b[0m eta \u001b[36m0:00:00\u001b[0m\n",
            "\u001b[?25hInstalling collected packages: cftime, netCDF4\n",
            "Successfully installed cftime-1.6.4 netCDF4-1.7.1.post2\n"
          ]
        }
      ],
      "source": [
        "pip install netCDF4\n"
      ]
    },
    {
      "cell_type": "code",
      "execution_count": null,
      "metadata": {
        "id": "CuDVAR85bHR4"
      },
      "outputs": [],
      "source": [
        "from netCDF4 import Dataset\n",
        "\n",
        "# Open the NetCDF file\n",
        "dataset = Dataset('tau_tropflux_1m_2018.nc', 'r')\n",
        "\n",
        "# Print the contents\n",
        "print(dataset)\n",
        "\n",
        "# Access variables individually\n",
        "time_var = dataset.variables['time']\n",
        "latitude_var = dataset.variables['latitude']\n",
        "longitude_var = dataset.variables['longitude']\n",
        "\n",
        "# Print the values of each variable\n",
        "print(time_var[:])\n",
        "print(latitude_var[:])\n",
        "print(longitude_var[:])\n",
        "\n",
        "# Close the dataset\n",
        "dataset.close()"
      ]
    },
    {
      "cell_type": "code",
      "execution_count": null,
      "metadata": {
        "colab": {
          "base_uri": "https://localhost:8080/"
        },
        "id": "GdhDXnp_zPVz",
        "outputId": "3fded913-587f-47ce-caac-2d4fe931d78b"
      },
      "outputs": [
        {
          "name": "stdout",
          "output_type": "stream",
          "text": [
            "/bin/bash: line 1: ncdump: command not found\n"
          ]
        }
      ],
      "source": [
        "!ncdump -h tau_tropflux_1m_2018.nc"
      ]
    },
    {
      "cell_type": "code",
      "execution_count": null,
      "metadata": {
        "colab": {
          "base_uri": "https://localhost:8080/"
        },
        "id": "FWQmF9iV3UZb",
        "outputId": "3cfcef4a-0c54-4bb9-c9a1-692af131ed23"
      },
      "outputs": [
        {
          "name": "stdout",
          "output_type": "stream",
          "text": [
            "Collecting netCDF4\n",
            "  Downloading netCDF4-1.7.1.post2-cp310-cp310-manylinux_2_17_x86_64.manylinux2014_x86_64.whl.metadata (1.8 kB)\n",
            "Collecting cftime (from netCDF4)\n",
            "  Downloading cftime-1.6.4-cp310-cp310-manylinux_2_17_x86_64.manylinux2014_x86_64.whl.metadata (8.7 kB)\n",
            "Requirement already satisfied: certifi in /usr/local/lib/python3.10/dist-packages (from netCDF4) (2024.8.30)\n",
            "Requirement already satisfied: numpy in /usr/local/lib/python3.10/dist-packages (from netCDF4) (1.26.4)\n",
            "Downloading netCDF4-1.7.1.post2-cp310-cp310-manylinux_2_17_x86_64.manylinux2014_x86_64.whl (9.0 MB)\n",
            "\u001b[2K   \u001b[90m━━━━━━━━━━━━━━━━━━━━━━━━━━━━━━━━━━━━━━━━\u001b[0m \u001b[32m9.0/9.0 MB\u001b[0m \u001b[31m54.4 MB/s\u001b[0m eta \u001b[36m0:00:00\u001b[0m\n",
            "\u001b[?25hDownloading cftime-1.6.4-cp310-cp310-manylinux_2_17_x86_64.manylinux2014_x86_64.whl (1.3 MB)\n",
            "\u001b[2K   \u001b[90m━━━━━━━━━━━━━━━━━━━━━━━━━━━━━━━━━━━━━━━━\u001b[0m \u001b[32m1.3/1.3 MB\u001b[0m \u001b[31m48.9 MB/s\u001b[0m eta \u001b[36m0:00:00\u001b[0m\n",
            "\u001b[?25hInstalling collected packages: cftime, netCDF4\n",
            "Successfully installed cftime-1.6.4 netCDF4-1.7.1.post2\n"
          ]
        }
      ],
      "source": [
        "!pip install netCDF4 # Install the netCDF4 package using pip in Python.\n",
        "\n"
      ]
    },
    {
      "cell_type": "code",
      "execution_count": null,
      "metadata": {
        "colab": {
          "base_uri": "https://localhost:8080/"
        },
        "id": "NTAL1V8k6mJw",
        "outputId": "50dac09b-a3df-4c8d-a56d-a96b57c12b51"
      },
      "outputs": [
        {
          "name": "stdout",
          "output_type": "stream",
          "text": [
            "<class 'netCDF4._netCDF4.Dataset'>\n",
            "root group (NETCDF3_CLASSIC data model, file format NETCDF3):\n",
            "    source: TropFlux - Momentum Fluxes for the Global Tropical Oceans\n",
            "    methodology: Praveen Kumar et al., Clim. Dyn 2013\n",
            "    producer_agency: Joint research colloboration between IPSL (France), NIO (India) and INCOIS (India)\n",
            "    time_range: 20180115 - 20181215\n",
            "    creation_date: 20190212\n",
            "    website: www.incois.gov.in/tropflux/\n",
            "    dimensions(sizes): longitude(350), latitude(60), time(12)\n",
            "    variables(dimensions): float32 tau(time, latitude, longitude), float32 longitude(longitude), float32 latitude(latitude), float64 time(time)\n",
            "    groups: \n",
            "[24851.5 24882.5 24910.5 24941.5 24971.5 25002.5 25032.5 25063.5 25094.5\n",
            " 25124.5 25155.5 25185.5]\n",
            "[-29.5 -28.5 -27.5 -26.5 -25.5 -24.5 -23.5 -22.5 -21.5 -20.5 -19.5 -18.5\n",
            " -17.5 -16.5 -15.5 -14.5 -13.5 -12.5 -11.5 -10.5  -9.5  -8.5  -7.5  -6.5\n",
            "  -5.5  -4.5  -3.5  -2.5  -1.5  -0.5   0.5   1.5   2.5   3.5   4.5   5.5\n",
            "   6.5   7.5   8.5   9.5  10.5  11.5  12.5  13.5  14.5  15.5  16.5  17.5\n",
            "  18.5  19.5  20.5  21.5  22.5  23.5  24.5  25.5  26.5  27.5  28.5  29.5]\n",
            "[ 30.5  31.5  32.5  33.5  34.5  35.5  36.5  37.5  38.5  39.5  40.5  41.5\n",
            "  42.5  43.5  44.5  45.5  46.5  47.5  48.5  49.5  50.5  51.5  52.5  53.5\n",
            "  54.5  55.5  56.5  57.5  58.5  59.5  60.5  61.5  62.5  63.5  64.5  65.5\n",
            "  66.5  67.5  68.5  69.5  70.5  71.5  72.5  73.5  74.5  75.5  76.5  77.5\n",
            "  78.5  79.5  80.5  81.5  82.5  83.5  84.5  85.5  86.5  87.5  88.5  89.5\n",
            "  90.5  91.5  92.5  93.5  94.5  95.5  96.5  97.5  98.5  99.5 100.5 101.5\n",
            " 102.5 103.5 104.5 105.5 106.5 107.5 108.5 109.5 110.5 111.5 112.5 113.5\n",
            " 114.5 115.5 116.5 117.5 118.5 119.5 120.5 121.5 122.5 123.5 124.5 125.5\n",
            " 126.5 127.5 128.5 129.5 130.5 131.5 132.5 133.5 134.5 135.5 136.5 137.5\n",
            " 138.5 139.5 140.5 141.5 142.5 143.5 144.5 145.5 146.5 147.5 148.5 149.5\n",
            " 150.5 151.5 152.5 153.5 154.5 155.5 156.5 157.5 158.5 159.5 160.5 161.5\n",
            " 162.5 163.5 164.5 165.5 166.5 167.5 168.5 169.5 170.5 171.5 172.5 173.5\n",
            " 174.5 175.5 176.5 177.5 178.5 179.5 180.5 181.5 182.5 183.5 184.5 185.5\n",
            " 186.5 187.5 188.5 189.5 190.5 191.5 192.5 193.5 194.5 195.5 196.5 197.5\n",
            " 198.5 199.5 200.5 201.5 202.5 203.5 204.5 205.5 206.5 207.5 208.5 209.5\n",
            " 210.5 211.5 212.5 213.5 214.5 215.5 216.5 217.5 218.5 219.5 220.5 221.5\n",
            " 222.5 223.5 224.5 225.5 226.5 227.5 228.5 229.5 230.5 231.5 232.5 233.5\n",
            " 234.5 235.5 236.5 237.5 238.5 239.5 240.5 241.5 242.5 243.5 244.5 245.5\n",
            " 246.5 247.5 248.5 249.5 250.5 251.5 252.5 253.5 254.5 255.5 256.5 257.5\n",
            " 258.5 259.5 260.5 261.5 262.5 263.5 264.5 265.5 266.5 267.5 268.5 269.5\n",
            " 270.5 271.5 272.5 273.5 274.5 275.5 276.5 277.5 278.5 279.5 280.5 281.5\n",
            " 282.5 283.5 284.5 285.5 286.5 287.5 288.5 289.5 290.5 291.5 292.5 293.5\n",
            " 294.5 295.5 296.5 297.5 298.5 299.5 300.5 301.5 302.5 303.5 304.5 305.5\n",
            " 306.5 307.5 308.5 309.5 310.5 311.5 312.5 313.5 314.5 315.5 316.5 317.5\n",
            " 318.5 319.5 320.5 321.5 322.5 323.5 324.5 325.5 326.5 327.5 328.5 329.5\n",
            " 330.5 331.5 332.5 333.5 334.5 335.5 336.5 337.5 338.5 339.5 340.5 341.5\n",
            " 342.5 343.5 344.5 345.5 346.5 347.5 348.5 349.5 350.5 351.5 352.5 353.5\n",
            " 354.5 355.5 356.5 357.5 358.5 359.5 360.5 361.5 362.5 363.5 364.5 365.5\n",
            " 366.5 367.5 368.5 369.5 370.5 371.5 372.5 373.5 374.5 375.5 376.5 377.5\n",
            " 378.5 379.5]\n"
          ]
        }
      ],
      "source": [
        "from netCDF4 import Dataset # Import the Dataset class from the netCDF4 library.\n",
        "\n",
        "# Open the NetCDF file\n",
        "file_path = '/content/tau_tropflux_1m_2018.nc' # Specify the full path to your NetCDF file\n",
        "nc = Dataset(file_path, 'r') # Open the file in read mode ('r').\n",
        "\n",
        "# Print the contents\n",
        "print(nc)\n",
        "\n",
        "# Access variables individually\n",
        "time_var = nc.variables['time'] # Access the 'time' variable.\n",
        "latitude_var = nc.variables['latitude'] # Access the 'latitude' variable.\n",
        "longitude_var = nc.variables['longitude'] # Access the 'longitude' variable.\n",
        "\n",
        "# Print the values of each variable\n",
        "print(time_var[:]) # Print the values of the 'time' variable.\n",
        "print(latitude_var[:]) # Print the values of the 'latitude' variable.\n",
        "print(longitude_var[:]) # Print the values of the 'longitude' variable.\n",
        "\n",
        "# Close the NetCDF file\n",
        "nc.close() # Close the file to release resources."
      ]
    },
    {
      "cell_type": "code",
      "execution_count": null,
      "metadata": {
        "colab": {
          "base_uri": "https://localhost:8080/"
        },
        "id": "V6ASoNjG7n9a",
        "outputId": "d8aa8e41-ff8b-456a-9f88-1b8051bfdf76"
      },
      "outputs": [
        {
          "output_type": "stream",
          "name": "stdout",
          "text": [
            "Collecting netCDF4\n",
            "  Downloading netCDF4-1.7.1.post2-cp310-cp310-manylinux_2_17_x86_64.manylinux2014_x86_64.whl.metadata (1.8 kB)\n",
            "Collecting cftime (from netCDF4)\n",
            "  Downloading cftime-1.6.4-cp310-cp310-manylinux_2_17_x86_64.manylinux2014_x86_64.whl.metadata (8.7 kB)\n",
            "Requirement already satisfied: certifi in /usr/local/lib/python3.10/dist-packages (from netCDF4) (2024.8.30)\n",
            "Requirement already satisfied: numpy in /usr/local/lib/python3.10/dist-packages (from netCDF4) (1.26.4)\n",
            "Downloading netCDF4-1.7.1.post2-cp310-cp310-manylinux_2_17_x86_64.manylinux2014_x86_64.whl (9.0 MB)\n",
            "\u001b[2K   \u001b[90m━━━━━━━━━━━━━━━━━━━━━━━━━━━━━━━━━━━━━━━━\u001b[0m \u001b[32m9.0/9.0 MB\u001b[0m \u001b[31m33.9 MB/s\u001b[0m eta \u001b[36m0:00:00\u001b[0m\n",
            "\u001b[?25hDownloading cftime-1.6.4-cp310-cp310-manylinux_2_17_x86_64.manylinux2014_x86_64.whl (1.3 MB)\n",
            "\u001b[2K   \u001b[90m━━━━━━━━━━━━━━━━━━━━━━━━━━━━━━━━━━━━━━━━\u001b[0m \u001b[32m1.3/1.3 MB\u001b[0m \u001b[31m34.0 MB/s\u001b[0m eta \u001b[36m0:00:00\u001b[0m\n",
            "\u001b[?25hInstalling collected packages: cftime, netCDF4\n",
            "Successfully installed cftime-1.6.4 netCDF4-1.7.1.post2\n"
          ]
        }
      ],
      "source": [
        "!pip install netCDF4"
      ]
    },
    {
      "cell_type": "code",
      "source": [
        "from netCDF4 import Dataset\n",
        "\n",
        "# Open the NetCDF file\n",
        "dataset = Dataset('tau_tropflux_1m_2018.nc', 'r')\n",
        "\n",
        "# Print information about the file\n",
        "print(dataset)\n",
        "\n",
        "# Access variables\n",
        "time_var = dataset.variables['time']\n",
        "latitude_var = dataset.variables['latitude']\n",
        "longitude_var = dataset.variables['longitude']\n",
        "\n",
        "# Print the values of each variable\n",
        "print(time_var[:])\n",
        "print(latitude_var[:])\n",
        "print(longitude_var[:])\n",
        "\n",
        "# Close the dataset\n",
        "dataset.close()"
      ],
      "metadata": {
        "colab": {
          "base_uri": "https://localhost:8080/"
        },
        "id": "6foV0QoMdv0D",
        "outputId": "5ef40875-72fc-4fb1-d8e7-2f94b67f40b1"
      },
      "execution_count": null,
      "outputs": [
        {
          "output_type": "stream",
          "name": "stdout",
          "text": [
            "<class 'netCDF4._netCDF4.Dataset'>\n",
            "root group (NETCDF3_CLASSIC data model, file format NETCDF3):\n",
            "    source: TropFlux - Momentum Fluxes for the Global Tropical Oceans\n",
            "    methodology: Praveen Kumar et al., Clim. Dyn 2013\n",
            "    producer_agency: Joint research colloboration between IPSL (France), NIO (India) and INCOIS (India)\n",
            "    time_range: 20180115 - 20181215\n",
            "    creation_date: 20190212\n",
            "    website: www.incois.gov.in/tropflux/\n",
            "    dimensions(sizes): longitude(350), latitude(60), time(12)\n",
            "    variables(dimensions): float32 tau(time, latitude, longitude), float32 longitude(longitude), float32 latitude(latitude), float64 time(time)\n",
            "    groups: \n",
            "[24851.5 24882.5 24910.5 24941.5 24971.5 25002.5 25032.5 25063.5 25094.5\n",
            " 25124.5 25155.5 25185.5]\n",
            "[-29.5 -28.5 -27.5 -26.5 -25.5 -24.5 -23.5 -22.5 -21.5 -20.5 -19.5 -18.5\n",
            " -17.5 -16.5 -15.5 -14.5 -13.5 -12.5 -11.5 -10.5  -9.5  -8.5  -7.5  -6.5\n",
            "  -5.5  -4.5  -3.5  -2.5  -1.5  -0.5   0.5   1.5   2.5   3.5   4.5   5.5\n",
            "   6.5   7.5   8.5   9.5  10.5  11.5  12.5  13.5  14.5  15.5  16.5  17.5\n",
            "  18.5  19.5  20.5  21.5  22.5  23.5  24.5  25.5  26.5  27.5  28.5  29.5]\n",
            "[ 30.5  31.5  32.5  33.5  34.5  35.5  36.5  37.5  38.5  39.5  40.5  41.5\n",
            "  42.5  43.5  44.5  45.5  46.5  47.5  48.5  49.5  50.5  51.5  52.5  53.5\n",
            "  54.5  55.5  56.5  57.5  58.5  59.5  60.5  61.5  62.5  63.5  64.5  65.5\n",
            "  66.5  67.5  68.5  69.5  70.5  71.5  72.5  73.5  74.5  75.5  76.5  77.5\n",
            "  78.5  79.5  80.5  81.5  82.5  83.5  84.5  85.5  86.5  87.5  88.5  89.5\n",
            "  90.5  91.5  92.5  93.5  94.5  95.5  96.5  97.5  98.5  99.5 100.5 101.5\n",
            " 102.5 103.5 104.5 105.5 106.5 107.5 108.5 109.5 110.5 111.5 112.5 113.5\n",
            " 114.5 115.5 116.5 117.5 118.5 119.5 120.5 121.5 122.5 123.5 124.5 125.5\n",
            " 126.5 127.5 128.5 129.5 130.5 131.5 132.5 133.5 134.5 135.5 136.5 137.5\n",
            " 138.5 139.5 140.5 141.5 142.5 143.5 144.5 145.5 146.5 147.5 148.5 149.5\n",
            " 150.5 151.5 152.5 153.5 154.5 155.5 156.5 157.5 158.5 159.5 160.5 161.5\n",
            " 162.5 163.5 164.5 165.5 166.5 167.5 168.5 169.5 170.5 171.5 172.5 173.5\n",
            " 174.5 175.5 176.5 177.5 178.5 179.5 180.5 181.5 182.5 183.5 184.5 185.5\n",
            " 186.5 187.5 188.5 189.5 190.5 191.5 192.5 193.5 194.5 195.5 196.5 197.5\n",
            " 198.5 199.5 200.5 201.5 202.5 203.5 204.5 205.5 206.5 207.5 208.5 209.5\n",
            " 210.5 211.5 212.5 213.5 214.5 215.5 216.5 217.5 218.5 219.5 220.5 221.5\n",
            " 222.5 223.5 224.5 225.5 226.5 227.5 228.5 229.5 230.5 231.5 232.5 233.5\n",
            " 234.5 235.5 236.5 237.5 238.5 239.5 240.5 241.5 242.5 243.5 244.5 245.5\n",
            " 246.5 247.5 248.5 249.5 250.5 251.5 252.5 253.5 254.5 255.5 256.5 257.5\n",
            " 258.5 259.5 260.5 261.5 262.5 263.5 264.5 265.5 266.5 267.5 268.5 269.5\n",
            " 270.5 271.5 272.5 273.5 274.5 275.5 276.5 277.5 278.5 279.5 280.5 281.5\n",
            " 282.5 283.5 284.5 285.5 286.5 287.5 288.5 289.5 290.5 291.5 292.5 293.5\n",
            " 294.5 295.5 296.5 297.5 298.5 299.5 300.5 301.5 302.5 303.5 304.5 305.5\n",
            " 306.5 307.5 308.5 309.5 310.5 311.5 312.5 313.5 314.5 315.5 316.5 317.5\n",
            " 318.5 319.5 320.5 321.5 322.5 323.5 324.5 325.5 326.5 327.5 328.5 329.5\n",
            " 330.5 331.5 332.5 333.5 334.5 335.5 336.5 337.5 338.5 339.5 340.5 341.5\n",
            " 342.5 343.5 344.5 345.5 346.5 347.5 348.5 349.5 350.5 351.5 352.5 353.5\n",
            " 354.5 355.5 356.5 357.5 358.5 359.5 360.5 361.5 362.5 363.5 364.5 365.5\n",
            " 366.5 367.5 368.5 369.5 370.5 371.5 372.5 373.5 374.5 375.5 376.5 377.5\n",
            " 378.5 379.5]\n"
          ]
        }
      ]
    },
    {
      "cell_type": "code",
      "source": [],
      "metadata": {
        "id": "TZBY0YhvePjJ"
      },
      "execution_count": null,
      "outputs": []
    }
  ],
  "metadata": {
    "colab": {
      "provenance": []
    },
    "kernelspec": {
      "display_name": "Python 3",
      "name": "python3"
    },
    "language_info": {
      "name": "python"
    }
  },
  "nbformat": 4,
  "nbformat_minor": 0
}